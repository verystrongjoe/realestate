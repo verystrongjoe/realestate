{
 "cells": [
  {
   "cell_type": "code",
   "execution_count": 2,
   "metadata": {
    "collapsed": false
   },
   "outputs": [
    {
     "name": "stdout",
     "output_type": "stream",
     "text": [
      "embedding int values..\n"
     ]
    },
    {
     "data": {
      "text/plain": [
       "<matplotlib.figure.Figure at 0x5973390>"
      ]
     },
     "metadata": {},
     "output_type": "display_data"
    }
   ],
   "source": [
    "import numpy as np\n",
    "import pandas as pd\n",
    "from sklearn import manifold\n",
    "import matplotlib.pyplot as plt\n",
    "\n",
    "%matplotlib.inl\n",
    "\n",
    "\n",
    "train = pd.read_csv(\"./input/train.csv\")\n",
    "test = pd.read_csv(\"./input/test.csv\")\n",
    "\n",
    "\n",
    "X1 = train.values[:,1:-1]\n",
    "X2 = test.values[:,1:] # same with above\n",
    "\n",
    "X = np.concatenate((X1,X2), axis= 0)\n",
    "\n",
    "\n",
    "y3 = train.values[:-1]\n",
    "y1 = train.values[:,-1]\n",
    "y1 = np.asarray([np.log(y) for y in y1]) # log를 취해버리네\n",
    "\n",
    "# Preprocessing\n",
    "\n",
    "# 1: separate different variable types\n",
    "cat_idx = []\n",
    "float_idx = []\n",
    "int_idx = []\n",
    "\n",
    "\n",
    "# sort X1 according to it's type\n",
    "for c in range(X1.shape[1]) :\n",
    "    typeStr = type(  X1[0, c] ).__name__\n",
    "    if typeStr == 'str'  :\n",
    "        cat_idx.append(c)\n",
    "    elif typeStr == 'float' and X1[1,c] == X1[1,c] :\n",
    "        float_idx.append(c)\n",
    "    elif typeStr == 'int' :\n",
    "        int_idx.append(c)\n",
    "\n",
    "# 2. encode string values into numbers\n",
    "for c in cat_idx :\n",
    "    uniques = list(set(X[:,c]))\n",
    "    tmp_dict = dict(zip(uniques, range(len(uniques))))\n",
    "    n_enc = np.array([tmp_dict[s] for s in X[:,c]]) #우와 이런 신기한 문법이 ㅎㅎ 참 간편하네\n",
    "    X[:,c] = n_enc\n",
    "\n",
    "# 3. what does an embedding of all int values look like?\n",
    "print('embedding int values..')\n",
    "plt.figure(1)\n",
    "\n",
    "plt.show()\n"
   ]
  },
  {
   "cell_type": "code",
   "execution_count": null,
   "metadata": {
    "collapsed": true
   },
   "outputs": [],
   "source": [
    "\n",
    "X_int = X[:,np.array(int_idx)]\n",
    "Y_int = np.float64(X_int)\n",
    "\n",
    "#replace nan\n",
    "X_int[X_int!=X_int] = 0   # 이부분이 이해가 안가네 nan을 0으로 바꾸는 부분인가?\n",
    "X_int -= np.min(X_int, axis= 0) # 이부분은 generalize하는건가\n",
    "X_int /= (.001+ np.max(X_int, axis=0)) # 맥스값에 min value(0.001)을 더해서 이걸로 원래 값을 나눠버린다 역시 generalization\n",
    "\n",
    "tsne = manifold.TSNE(n_components=2, init='pca')\n",
    "Y_int = tsne.fit_transform(X_int)\n",
    "\n",
    "plt.scatter(Y_int[len(X1):,0], Y_int[len(X1):,1], marker='.', label = 'test')\n",
    "sp = plt.scatter(Y_int[:len(X1),0], Y_int[:len(X1),1], c=y1, label= 'train')\n",
    "plt.legend(prop={'size':6})\n",
    "plt.colorbar(sp)\n",
    "plt.title('t-SNE embedding of int variables')\n",
    "plt.savefig('t-SNE_int.png')\n",
    "\n",
    "\n",
    "# 4: what does an embedding of all string values look like?\n",
    "print('embedding string values...')\n",
    "plt.figure(2)\n",
    "X_str = X[:,np.array(cat_idx)]\n",
    "# replace nan\n",
    "X_str[X_str!=X_str] = 0\n",
    "\n",
    "\n",
    "def onehot(x):\n",
    "    nx=np.zeros((len(x),max(x)+1))\n",
    "    for k in range(len(x)):\n",
    "        nx[k,x[k]] = 1\n",
    "    return nx\n",
    "\n",
    "X_tmp = []\n",
    "for c in range(X_str.shape[1]):\n",
    "    X_tmp.extend(onehot(X_str[:,c]).T)\n",
    "X_str = np.asarray(X_tmp).T\n",
    "tsne = manifold.TSNE(n_components=2,init='pca')\n",
    "Y_str = tsne.fit_transform(X_str)\n",
    "#y1-=np.nanmin(y1)\n",
    "#y1/=np.nanmax(y1)\n",
    "plt.scatter(Y_str[len(X1):,0],Y_str[len(X1):,1],marker='.',label='test')\n",
    "sp = plt.scatter(Y_str[:len(X1),0],Y_str[:len(X1),1],c=y1,label='train')\n",
    "plt.legend(prop={'size':6})\n",
    "plt.colorbar(sp)\n",
    "plt.title('t-SNE embedding of string variables')\n",
    "plt.savefig('t-SNE_string.png')\n",
    "\n",
    "# 4: what does an embedding of all int and string values look like?\n",
    "print('embedding int and string values...')\n",
    "plt.figure(3)\n",
    "X_strint = np.concatenate((X_int,X_str),axis=1)\n",
    "tsne = manifold.TSNE(n_components=2,init='pca')\n",
    "Y_strint = tsne.fit_transform(X_strint)\n",
    "plt.scatter(Y_strint[len(X1):,0],Y_strint[len(X1):,1],marker='.',label='test')\n",
    "sp = plt.scatter(Y_strint[:len(X1),0],Y_strint[:len(X1),1],c=y1,label='train')\n",
    "plt.legend(prop={'size':6})\n",
    "plt.colorbar(sp)\n",
    "plt.title('t-SNE embedding of int and string variables')\n",
    "plt.savefig('t-SNE_intstring.png')\n",
    "\n",
    "# center data at 0 scaled from -0.5 to +0.5 for neural networks\n",
    "# -> start within the linear region of tanh activation function\n",
    "X_strint-=.5\n",
    "X_strint_train = X_strint[:len(X1),:]\n",
    "X_strint_test = X_strint[len(X1):,:]"
   ]
  }
 ],
 "metadata": {
  "kernelspec": {
   "display_name": "Python [conda root]",
   "language": "python",
   "name": "conda-root-py"
  },
  "language_info": {
   "codemirror_mode": {
    "name": "ipython",
    "version": 3
   },
   "file_extension": ".py",
   "mimetype": "text/x-python",
   "name": "python",
   "nbconvert_exporter": "python",
   "pygments_lexer": "ipython3",
   "version": "3.5.2"
  }
 },
 "nbformat": 4,
 "nbformat_minor": 1
}
